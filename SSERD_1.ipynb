{
  "nbformat": 4,
  "nbformat_minor": 0,
  "metadata": {
    "colab": {
      "name": "SSERD-1",
      "provenance": [],
      "authorship_tag": "ABX9TyOuzfQakj1+Hl7A86sW5eWi",
      "include_colab_link": true
    },
    "kernelspec": {
      "display_name": "Python 3",
      "name": "python3"
    },
    "language_info": {
      "name": "python"
    }
  },
  "cells": [
    {
      "cell_type": "markdown",
      "metadata": {
        "id": "view-in-github",
        "colab_type": "text"
      },
      "source": [
        "<a href=\"https://colab.research.google.com/github/Meghababu1999/sserd/blob/main/SSERD_1.ipynb\" target=\"_parent\"><img src=\"https://colab.research.google.com/assets/colab-badge.svg\" alt=\"Open In Colab\"/></a>"
      ]
    },
    {
      "cell_type": "code",
      "metadata": {
        "colab": {
          "base_uri": "https://localhost:8080/",
          "height": 334
        },
        "id": "gpmDi6BggaCn",
        "outputId": "98c12ee7-ebe3-4878-8687-b4c3d6037e79"
      },
      "source": [
        "import pandas as pd\n",
        "import numpy as np\n",
        "import math as m\n",
        "G={'Name of pulsar':['J0205+6449','J0218+4232','J0437-4715','J0534+2200','J1105-6107','J1124-5916','J1617-5055','J1930+1852','J2124-3358','J2229+6114'],'po':[0.06571592849324,0.00232309053151224,0.005757451936712637,0.0333924123,0.0632021309179,0.13547685441,0.069356847,0.136855046957,0.00493111494309662,0.05162357393],'pdot':[1.93754256e-13,7.73955e-20,5.729215e-20,4.20972e-13,1.584462e-14,7.52566e-13,1.351e-13,7.5057e-13,2.05705e-20,7.827e-14],'D in Kpc':[3.200,3.150,0.157,2.000,2.360, 5.000, 4.743, 7.000, 0.410, 3.000],'Age':[5.37e+03,4.76e+08,1.59e+09,1.26e+03,6.32e+04,2.85e+03, 8.13e+03, 2.89e+03, 3.8e+09, 1.05e+04],'R_L':['NaN',466.36,13.52,2200.00,'NaN','NaN','NaN','NaN', 2.86, 13.50],'B_s':[3.61e+12,4.29e+08,4.29e+08,3.79e+12,1.01e+12,1.02e+13,3.1e+12,1.03e+13,3.22e+08,2.03e+12],\n",
        "'Edot':[2.7e+37,2.4e+35,1.2e+34,4.5e+38,2.5e+36,1.2e+37,1.6e+37,1.2e+37,6.8e+33,2.2e+37],\n",
        "'Edot2':[2.6e+36,2.5e+34,4.8e+35,1.1e+38,4.4e+35,4.8e+35,7.1e+35,2.4e+35,2.4e+35,2.5e+36],\n",
        "'B_sI':[3.61e+12,4.27e+08,2.85e+08,3.79e+12,'NaN','NaN','NaN','NaN', 1.92e+08,'NaN'],\n",
        "'B_Lc':[1.19e+05,3.21e+05,2.85e+04,9.55e+05,3.76e+04,3.85e+04, 8.70e+04, 3.75e+04, 2.52e+04, 1.39e+05]}\n",
        "l=pd.DataFrame(G)\n",
        "l.to_csv('High_energy_pulsar.csv')\n",
        "l"
      ],
      "execution_count": null,
      "outputs": [
        {
          "output_type": "execute_result",
          "data": {
            "text/html": [
              "<div>\n",
              "<style scoped>\n",
              "    .dataframe tbody tr th:only-of-type {\n",
              "        vertical-align: middle;\n",
              "    }\n",
              "\n",
              "    .dataframe tbody tr th {\n",
              "        vertical-align: top;\n",
              "    }\n",
              "\n",
              "    .dataframe thead th {\n",
              "        text-align: right;\n",
              "    }\n",
              "</style>\n",
              "<table border=\"1\" class=\"dataframe\">\n",
              "  <thead>\n",
              "    <tr style=\"text-align: right;\">\n",
              "      <th></th>\n",
              "      <th>Name of pulsar</th>\n",
              "      <th>po</th>\n",
              "      <th>pdot</th>\n",
              "      <th>D in Kpc</th>\n",
              "      <th>Age</th>\n",
              "      <th>R_L</th>\n",
              "      <th>B_s</th>\n",
              "      <th>Edot</th>\n",
              "      <th>Edot2</th>\n",
              "      <th>B_sI</th>\n",
              "      <th>B_Lc</th>\n",
              "    </tr>\n",
              "  </thead>\n",
              "  <tbody>\n",
              "    <tr>\n",
              "      <th>0</th>\n",
              "      <td>J0205+6449</td>\n",
              "      <td>0.065716</td>\n",
              "      <td>1.937543e-13</td>\n",
              "      <td>3.200</td>\n",
              "      <td>5.370000e+03</td>\n",
              "      <td>NaN</td>\n",
              "      <td>3.610000e+12</td>\n",
              "      <td>2.700000e+37</td>\n",
              "      <td>2.600000e+36</td>\n",
              "      <td>3.61e+12</td>\n",
              "      <td>119000.0</td>\n",
              "    </tr>\n",
              "    <tr>\n",
              "      <th>1</th>\n",
              "      <td>J0218+4232</td>\n",
              "      <td>0.002323</td>\n",
              "      <td>7.739550e-20</td>\n",
              "      <td>3.150</td>\n",
              "      <td>4.760000e+08</td>\n",
              "      <td>466.36</td>\n",
              "      <td>4.290000e+08</td>\n",
              "      <td>2.400000e+35</td>\n",
              "      <td>2.500000e+34</td>\n",
              "      <td>4.27e+08</td>\n",
              "      <td>321000.0</td>\n",
              "    </tr>\n",
              "    <tr>\n",
              "      <th>2</th>\n",
              "      <td>J0437-4715</td>\n",
              "      <td>0.005757</td>\n",
              "      <td>5.729215e-20</td>\n",
              "      <td>0.157</td>\n",
              "      <td>1.590000e+09</td>\n",
              "      <td>13.52</td>\n",
              "      <td>4.290000e+08</td>\n",
              "      <td>1.200000e+34</td>\n",
              "      <td>4.800000e+35</td>\n",
              "      <td>2.85e+08</td>\n",
              "      <td>28500.0</td>\n",
              "    </tr>\n",
              "    <tr>\n",
              "      <th>3</th>\n",
              "      <td>J0534+2200</td>\n",
              "      <td>0.033392</td>\n",
              "      <td>4.209720e-13</td>\n",
              "      <td>2.000</td>\n",
              "      <td>1.260000e+03</td>\n",
              "      <td>2200</td>\n",
              "      <td>3.790000e+12</td>\n",
              "      <td>4.500000e+38</td>\n",
              "      <td>1.100000e+38</td>\n",
              "      <td>3.79e+12</td>\n",
              "      <td>955000.0</td>\n",
              "    </tr>\n",
              "    <tr>\n",
              "      <th>4</th>\n",
              "      <td>J1105-6107</td>\n",
              "      <td>0.063202</td>\n",
              "      <td>1.584462e-14</td>\n",
              "      <td>2.360</td>\n",
              "      <td>6.320000e+04</td>\n",
              "      <td>NaN</td>\n",
              "      <td>1.010000e+12</td>\n",
              "      <td>2.500000e+36</td>\n",
              "      <td>4.400000e+35</td>\n",
              "      <td>NaN</td>\n",
              "      <td>37600.0</td>\n",
              "    </tr>\n",
              "    <tr>\n",
              "      <th>5</th>\n",
              "      <td>J1124-5916</td>\n",
              "      <td>0.135477</td>\n",
              "      <td>7.525660e-13</td>\n",
              "      <td>5.000</td>\n",
              "      <td>2.850000e+03</td>\n",
              "      <td>NaN</td>\n",
              "      <td>1.020000e+13</td>\n",
              "      <td>1.200000e+37</td>\n",
              "      <td>4.800000e+35</td>\n",
              "      <td>NaN</td>\n",
              "      <td>38500.0</td>\n",
              "    </tr>\n",
              "    <tr>\n",
              "      <th>6</th>\n",
              "      <td>J1617-5055</td>\n",
              "      <td>0.069357</td>\n",
              "      <td>1.351000e-13</td>\n",
              "      <td>4.743</td>\n",
              "      <td>8.130000e+03</td>\n",
              "      <td>NaN</td>\n",
              "      <td>3.100000e+12</td>\n",
              "      <td>1.600000e+37</td>\n",
              "      <td>7.100000e+35</td>\n",
              "      <td>NaN</td>\n",
              "      <td>87000.0</td>\n",
              "    </tr>\n",
              "    <tr>\n",
              "      <th>7</th>\n",
              "      <td>J1930+1852</td>\n",
              "      <td>0.136855</td>\n",
              "      <td>7.505700e-13</td>\n",
              "      <td>7.000</td>\n",
              "      <td>2.890000e+03</td>\n",
              "      <td>NaN</td>\n",
              "      <td>1.030000e+13</td>\n",
              "      <td>1.200000e+37</td>\n",
              "      <td>2.400000e+35</td>\n",
              "      <td>NaN</td>\n",
              "      <td>37500.0</td>\n",
              "    </tr>\n",
              "    <tr>\n",
              "      <th>8</th>\n",
              "      <td>J2124-3358</td>\n",
              "      <td>0.004931</td>\n",
              "      <td>2.057050e-20</td>\n",
              "      <td>0.410</td>\n",
              "      <td>3.800000e+09</td>\n",
              "      <td>2.86</td>\n",
              "      <td>3.220000e+08</td>\n",
              "      <td>6.800000e+33</td>\n",
              "      <td>2.400000e+35</td>\n",
              "      <td>1.92e+08</td>\n",
              "      <td>25200.0</td>\n",
              "    </tr>\n",
              "    <tr>\n",
              "      <th>9</th>\n",
              "      <td>J2229+6114</td>\n",
              "      <td>0.051624</td>\n",
              "      <td>7.827000e-14</td>\n",
              "      <td>3.000</td>\n",
              "      <td>1.050000e+04</td>\n",
              "      <td>13.5</td>\n",
              "      <td>2.030000e+12</td>\n",
              "      <td>2.200000e+37</td>\n",
              "      <td>2.500000e+36</td>\n",
              "      <td>NaN</td>\n",
              "      <td>139000.0</td>\n",
              "    </tr>\n",
              "  </tbody>\n",
              "</table>\n",
              "</div>"
            ],
            "text/plain": [
              "  Name of pulsar        po          pdot  ...         Edot2      B_sI      B_Lc\n",
              "0     J0205+6449  0.065716  1.937543e-13  ...  2.600000e+36  3.61e+12  119000.0\n",
              "1     J0218+4232  0.002323  7.739550e-20  ...  2.500000e+34  4.27e+08  321000.0\n",
              "2     J0437-4715  0.005757  5.729215e-20  ...  4.800000e+35  2.85e+08   28500.0\n",
              "3     J0534+2200  0.033392  4.209720e-13  ...  1.100000e+38  3.79e+12  955000.0\n",
              "4     J1105-6107  0.063202  1.584462e-14  ...  4.400000e+35       NaN   37600.0\n",
              "5     J1124-5916  0.135477  7.525660e-13  ...  4.800000e+35       NaN   38500.0\n",
              "6     J1617-5055  0.069357  1.351000e-13  ...  7.100000e+35       NaN   87000.0\n",
              "7     J1930+1852  0.136855  7.505700e-13  ...  2.400000e+35       NaN   37500.0\n",
              "8     J2124-3358  0.004931  2.057050e-20  ...  2.400000e+35  1.92e+08   25200.0\n",
              "9     J2229+6114  0.051624  7.827000e-14  ...  2.500000e+36       NaN  139000.0\n",
              "\n",
              "[10 rows x 11 columns]"
            ]
          },
          "metadata": {
            "tags": []
          },
          "execution_count": 1
        }
      ]
    },
    {
      "cell_type": "code",
      "metadata": {
        "colab": {
          "base_uri": "https://localhost:8080/",
          "height": 334
        },
        "id": "je9dnWH-hYb6",
        "outputId": "2a130667-11fd-491f-8291-4b374928ec92"
      },
      "source": [
        "A={'Name of pulsar':['J0537-6910','J0633+1746','J0543+2329','J1811-1925','J1846-0258','J0628+0909','J0633+1746','J0636-4549','J1811-4930','J1812-1718'],'po':[0.0161222220245,0.2370994416923,0.245983683333,0.06466700,0.32657128834,3.763733080,0.2370994416923,1.98459736713,1.4327041968,1.20537444137],'pdot':[5.1784338e-14,1.097087e-14,1.541956e-14,4.40e-14,7.107450e-12,0.5479e-15,1.097087e-14,3.1722e-15,2.254e-15,1.9077e-14],'D in Kpc':[49.700,0.190,1.565,5.000,5.800,1.771,0.190,0.383,1.447,3.678],'R_L':['NaN','NaN',71.03,'NaN','NaN','NaN','NaN','NaN','NaN','NaN'],'Age':[4.93e+03,3.42e+05,2.53e+05,2.33e+04,728,3.59e+07,3.42e+05,9.91e+06,1.01e+07,1e+06],'B_s':[9.25e+11,1.63e+12,1.97e+12,1.71e+12,4.88e+13,8.35e+11,1.63e+12,2.54e+12,1.82e+12,4.85e+12],'Edot':[4.9e+38,3.2e+34,4.1e+34,6.4e+36,8.1e+36,1.1e+31,3.2e+34,1.6e+31,3.0e+31,4.3e+32],'Edot2':[2.0e+35,9.0e+35,1.7e+34,2.6e+35,2.4e+35,3.6e+30,9.0e+35,1.1e+32,1.4e+31,3.2e+31],'B_sI':['NaN',1.63e+12,1.97e+12,'NaN','NaN','NaN',1.63e+12,'NaN','NaN','NaN'],'B_Lc':[2.07e+06,1.15e+03,1.24e+03,5.92e+04,1.31e+04,4.09e+00,1.15e+03,3.05e+00,5.80e+00,2.60e+01]}\n",
        "p=pd.DataFrame(A)\n",
        "p.to_csv('Non_Radio_pulsar.csv')\n",
        "p"
      ],
      "execution_count": null,
      "outputs": [
        {
          "output_type": "execute_result",
          "data": {
            "text/html": [
              "<div>\n",
              "<style scoped>\n",
              "    .dataframe tbody tr th:only-of-type {\n",
              "        vertical-align: middle;\n",
              "    }\n",
              "\n",
              "    .dataframe tbody tr th {\n",
              "        vertical-align: top;\n",
              "    }\n",
              "\n",
              "    .dataframe thead th {\n",
              "        text-align: right;\n",
              "    }\n",
              "</style>\n",
              "<table border=\"1\" class=\"dataframe\">\n",
              "  <thead>\n",
              "    <tr style=\"text-align: right;\">\n",
              "      <th></th>\n",
              "      <th>Name of pulsar</th>\n",
              "      <th>po</th>\n",
              "      <th>pdot</th>\n",
              "      <th>D in Kpc</th>\n",
              "      <th>R_L</th>\n",
              "      <th>Age</th>\n",
              "      <th>B_s</th>\n",
              "      <th>Edot</th>\n",
              "      <th>Edot2</th>\n",
              "      <th>B_sI</th>\n",
              "      <th>B_Lc</th>\n",
              "    </tr>\n",
              "  </thead>\n",
              "  <tbody>\n",
              "    <tr>\n",
              "      <th>0</th>\n",
              "      <td>J0537-6910</td>\n",
              "      <td>0.016122</td>\n",
              "      <td>5.178434e-14</td>\n",
              "      <td>49.700</td>\n",
              "      <td>NaN</td>\n",
              "      <td>4930.0</td>\n",
              "      <td>9.250000e+11</td>\n",
              "      <td>4.900000e+38</td>\n",
              "      <td>2.000000e+35</td>\n",
              "      <td>NaN</td>\n",
              "      <td>2070000.00</td>\n",
              "    </tr>\n",
              "    <tr>\n",
              "      <th>1</th>\n",
              "      <td>J0633+1746</td>\n",
              "      <td>0.237099</td>\n",
              "      <td>1.097087e-14</td>\n",
              "      <td>0.190</td>\n",
              "      <td>NaN</td>\n",
              "      <td>342000.0</td>\n",
              "      <td>1.630000e+12</td>\n",
              "      <td>3.200000e+34</td>\n",
              "      <td>9.000000e+35</td>\n",
              "      <td>1.63e+12</td>\n",
              "      <td>1150.00</td>\n",
              "    </tr>\n",
              "    <tr>\n",
              "      <th>2</th>\n",
              "      <td>J0543+2329</td>\n",
              "      <td>0.245984</td>\n",
              "      <td>1.541956e-14</td>\n",
              "      <td>1.565</td>\n",
              "      <td>71.03</td>\n",
              "      <td>253000.0</td>\n",
              "      <td>1.970000e+12</td>\n",
              "      <td>4.100000e+34</td>\n",
              "      <td>1.700000e+34</td>\n",
              "      <td>1.97e+12</td>\n",
              "      <td>1240.00</td>\n",
              "    </tr>\n",
              "    <tr>\n",
              "      <th>3</th>\n",
              "      <td>J1811-1925</td>\n",
              "      <td>0.064667</td>\n",
              "      <td>4.400000e-14</td>\n",
              "      <td>5.000</td>\n",
              "      <td>NaN</td>\n",
              "      <td>23300.0</td>\n",
              "      <td>1.710000e+12</td>\n",
              "      <td>6.400000e+36</td>\n",
              "      <td>2.600000e+35</td>\n",
              "      <td>NaN</td>\n",
              "      <td>59200.00</td>\n",
              "    </tr>\n",
              "    <tr>\n",
              "      <th>4</th>\n",
              "      <td>J1846-0258</td>\n",
              "      <td>0.326571</td>\n",
              "      <td>7.107450e-12</td>\n",
              "      <td>5.800</td>\n",
              "      <td>NaN</td>\n",
              "      <td>728.0</td>\n",
              "      <td>4.880000e+13</td>\n",
              "      <td>8.100000e+36</td>\n",
              "      <td>2.400000e+35</td>\n",
              "      <td>NaN</td>\n",
              "      <td>13100.00</td>\n",
              "    </tr>\n",
              "    <tr>\n",
              "      <th>5</th>\n",
              "      <td>J0628+0909</td>\n",
              "      <td>3.763733</td>\n",
              "      <td>5.479000e-16</td>\n",
              "      <td>1.771</td>\n",
              "      <td>NaN</td>\n",
              "      <td>35900000.0</td>\n",
              "      <td>8.350000e+11</td>\n",
              "      <td>1.100000e+31</td>\n",
              "      <td>3.600000e+30</td>\n",
              "      <td>NaN</td>\n",
              "      <td>4.09</td>\n",
              "    </tr>\n",
              "    <tr>\n",
              "      <th>6</th>\n",
              "      <td>J0633+1746</td>\n",
              "      <td>0.237099</td>\n",
              "      <td>1.097087e-14</td>\n",
              "      <td>0.190</td>\n",
              "      <td>NaN</td>\n",
              "      <td>342000.0</td>\n",
              "      <td>1.630000e+12</td>\n",
              "      <td>3.200000e+34</td>\n",
              "      <td>9.000000e+35</td>\n",
              "      <td>1.63e+12</td>\n",
              "      <td>1150.00</td>\n",
              "    </tr>\n",
              "    <tr>\n",
              "      <th>7</th>\n",
              "      <td>J0636-4549</td>\n",
              "      <td>1.984597</td>\n",
              "      <td>3.172200e-15</td>\n",
              "      <td>0.383</td>\n",
              "      <td>NaN</td>\n",
              "      <td>9910000.0</td>\n",
              "      <td>2.540000e+12</td>\n",
              "      <td>1.600000e+31</td>\n",
              "      <td>1.100000e+32</td>\n",
              "      <td>NaN</td>\n",
              "      <td>3.05</td>\n",
              "    </tr>\n",
              "    <tr>\n",
              "      <th>8</th>\n",
              "      <td>J1811-4930</td>\n",
              "      <td>1.432704</td>\n",
              "      <td>2.254000e-15</td>\n",
              "      <td>1.447</td>\n",
              "      <td>NaN</td>\n",
              "      <td>10100000.0</td>\n",
              "      <td>1.820000e+12</td>\n",
              "      <td>3.000000e+31</td>\n",
              "      <td>1.400000e+31</td>\n",
              "      <td>NaN</td>\n",
              "      <td>5.80</td>\n",
              "    </tr>\n",
              "    <tr>\n",
              "      <th>9</th>\n",
              "      <td>J1812-1718</td>\n",
              "      <td>1.205374</td>\n",
              "      <td>1.907700e-14</td>\n",
              "      <td>3.678</td>\n",
              "      <td>NaN</td>\n",
              "      <td>1000000.0</td>\n",
              "      <td>4.850000e+12</td>\n",
              "      <td>4.300000e+32</td>\n",
              "      <td>3.200000e+31</td>\n",
              "      <td>NaN</td>\n",
              "      <td>26.00</td>\n",
              "    </tr>\n",
              "  </tbody>\n",
              "</table>\n",
              "</div>"
            ],
            "text/plain": [
              "  Name of pulsar        po          pdot  ...         Edot2      B_sI        B_Lc\n",
              "0     J0537-6910  0.016122  5.178434e-14  ...  2.000000e+35       NaN  2070000.00\n",
              "1     J0633+1746  0.237099  1.097087e-14  ...  9.000000e+35  1.63e+12     1150.00\n",
              "2     J0543+2329  0.245984  1.541956e-14  ...  1.700000e+34  1.97e+12     1240.00\n",
              "3     J1811-1925  0.064667  4.400000e-14  ...  2.600000e+35       NaN    59200.00\n",
              "4     J1846-0258  0.326571  7.107450e-12  ...  2.400000e+35       NaN    13100.00\n",
              "5     J0628+0909  3.763733  5.479000e-16  ...  3.600000e+30       NaN        4.09\n",
              "6     J0633+1746  0.237099  1.097087e-14  ...  9.000000e+35  1.63e+12     1150.00\n",
              "7     J0636-4549  1.984597  3.172200e-15  ...  1.100000e+32       NaN        3.05\n",
              "8     J1811-4930  1.432704  2.254000e-15  ...  1.400000e+31       NaN        5.80\n",
              "9     J1812-1718  1.205374  1.907700e-14  ...  3.200000e+31       NaN       26.00\n",
              "\n",
              "[10 rows x 11 columns]"
            ]
          },
          "metadata": {
            "tags": []
          },
          "execution_count": 2
        }
      ]
    },
    {
      "cell_type": "code",
      "metadata": {
        "colab": {
          "base_uri": "https://localhost:8080/",
          "height": 334
        },
        "id": "LYaEiAzGhcJW",
        "outputId": "bccfe14c-a51a-4901-ab20-e9db64690fbe"
      },
      "source": [
        "R={'Name of pulsar':['J0100-7211','J0525-6607','J1708-4008','J1808-2024','J1809-1943','J1841-0456','J1907+0919','J2301+5852','J1745-2900','J0525-6607'],'po':[8.020392, 0.35443759451370,11.0062624,7.55592,5.540742829,11.7889784, 5.198346,6.9790709703,3.763733080,8.0470],'pdot':[1.88e-11, 7.36052e-17,1.960e-11,5.49e-10,2.8281e-12,4.092e-11,9.2e-11,4.7123e-13,1.756e-11,6.5e-11],'D in Kpc':[59.700, 1.841,3.800,13.000,3.600,9.600,'NaN',3.300,8.300,'NaN'],'R_L':['NaN', 66.09,'NaN','NaN','NaN','NaN','NaN','NaN','NaN','NaN'],'Age':[6.76e+03,7.63e+07,8.9e+03,218,3.1e+04,4.57e+03,895,2.35e+05,3.4e+03,1.96e+03],'B_s':[3.93e+14,1.63e+11,4.7e+14,2.06e+15,1.27e+14,7.03e+14,7e+14,5.8e+13,2.6e+14,7.32e+14],'Edot':[1.4e+33,6.5e+31,5.8e+32,5.0e+34,6.6e+32,9.9e+32,2.6e+34,5.5e+31,1.3e+34,4.9e+33],'Edot2':[4.0e+29,1.9e+31,4.0e+31,3.0e+32,5.1e+31,1.1e+31,'NaN',5.0e+30,1.9e+32,'NaN'],'B_sI':['NaN', 1.62e+11,'NaN',2.06e+15, 1.27e+14,'NaN','NaN', 5.80e+13,2.60e+14,'NaN'],'B_Lc':[7.14e+00,3.44e+01,3.30e+00,4.48e+01,6.98e+00,4.02e+00,4.67e+01,1.60e+00,4.57e+01,1.32e+01]}\n",
        "c=pd.DataFrame(R)\n",
        "c.to_csv('magnetor_pulsar.csv')\n",
        "c"
      ],
      "execution_count": null,
      "outputs": [
        {
          "output_type": "execute_result",
          "data": {
            "text/html": [
              "<div>\n",
              "<style scoped>\n",
              "    .dataframe tbody tr th:only-of-type {\n",
              "        vertical-align: middle;\n",
              "    }\n",
              "\n",
              "    .dataframe tbody tr th {\n",
              "        vertical-align: top;\n",
              "    }\n",
              "\n",
              "    .dataframe thead th {\n",
              "        text-align: right;\n",
              "    }\n",
              "</style>\n",
              "<table border=\"1\" class=\"dataframe\">\n",
              "  <thead>\n",
              "    <tr style=\"text-align: right;\">\n",
              "      <th></th>\n",
              "      <th>Name of pulsar</th>\n",
              "      <th>po</th>\n",
              "      <th>pdot</th>\n",
              "      <th>D in Kpc</th>\n",
              "      <th>R_L</th>\n",
              "      <th>Age</th>\n",
              "      <th>B_s</th>\n",
              "      <th>Edot</th>\n",
              "      <th>Edot2</th>\n",
              "      <th>B_sI</th>\n",
              "      <th>B_Lc</th>\n",
              "    </tr>\n",
              "  </thead>\n",
              "  <tbody>\n",
              "    <tr>\n",
              "      <th>0</th>\n",
              "      <td>J0100-7211</td>\n",
              "      <td>8.020392</td>\n",
              "      <td>1.880000e-11</td>\n",
              "      <td>59.7</td>\n",
              "      <td>NaN</td>\n",
              "      <td>6760.0</td>\n",
              "      <td>3.930000e+14</td>\n",
              "      <td>1.400000e+33</td>\n",
              "      <td>4e+29</td>\n",
              "      <td>NaN</td>\n",
              "      <td>7.14</td>\n",
              "    </tr>\n",
              "    <tr>\n",
              "      <th>1</th>\n",
              "      <td>J0525-6607</td>\n",
              "      <td>0.354438</td>\n",
              "      <td>7.360520e-17</td>\n",
              "      <td>1.841</td>\n",
              "      <td>66.09</td>\n",
              "      <td>76300000.0</td>\n",
              "      <td>1.630000e+11</td>\n",
              "      <td>6.500000e+31</td>\n",
              "      <td>1.9e+31</td>\n",
              "      <td>1.62e+11</td>\n",
              "      <td>34.40</td>\n",
              "    </tr>\n",
              "    <tr>\n",
              "      <th>2</th>\n",
              "      <td>J1708-4008</td>\n",
              "      <td>11.006262</td>\n",
              "      <td>1.960000e-11</td>\n",
              "      <td>3.8</td>\n",
              "      <td>NaN</td>\n",
              "      <td>8900.0</td>\n",
              "      <td>4.700000e+14</td>\n",
              "      <td>5.800000e+32</td>\n",
              "      <td>4e+31</td>\n",
              "      <td>NaN</td>\n",
              "      <td>3.30</td>\n",
              "    </tr>\n",
              "    <tr>\n",
              "      <th>3</th>\n",
              "      <td>J1808-2024</td>\n",
              "      <td>7.555920</td>\n",
              "      <td>5.490000e-10</td>\n",
              "      <td>13</td>\n",
              "      <td>NaN</td>\n",
              "      <td>218.0</td>\n",
              "      <td>2.060000e+15</td>\n",
              "      <td>5.000000e+34</td>\n",
              "      <td>3e+32</td>\n",
              "      <td>2.06e+15</td>\n",
              "      <td>44.80</td>\n",
              "    </tr>\n",
              "    <tr>\n",
              "      <th>4</th>\n",
              "      <td>J1809-1943</td>\n",
              "      <td>5.540743</td>\n",
              "      <td>2.828100e-12</td>\n",
              "      <td>3.6</td>\n",
              "      <td>NaN</td>\n",
              "      <td>31000.0</td>\n",
              "      <td>1.270000e+14</td>\n",
              "      <td>6.600000e+32</td>\n",
              "      <td>5.1e+31</td>\n",
              "      <td>1.27e+14</td>\n",
              "      <td>6.98</td>\n",
              "    </tr>\n",
              "    <tr>\n",
              "      <th>5</th>\n",
              "      <td>J1841-0456</td>\n",
              "      <td>11.788978</td>\n",
              "      <td>4.092000e-11</td>\n",
              "      <td>9.6</td>\n",
              "      <td>NaN</td>\n",
              "      <td>4570.0</td>\n",
              "      <td>7.030000e+14</td>\n",
              "      <td>9.900000e+32</td>\n",
              "      <td>1.1e+31</td>\n",
              "      <td>NaN</td>\n",
              "      <td>4.02</td>\n",
              "    </tr>\n",
              "    <tr>\n",
              "      <th>6</th>\n",
              "      <td>J1907+0919</td>\n",
              "      <td>5.198346</td>\n",
              "      <td>9.200000e-11</td>\n",
              "      <td>NaN</td>\n",
              "      <td>NaN</td>\n",
              "      <td>895.0</td>\n",
              "      <td>7.000000e+14</td>\n",
              "      <td>2.600000e+34</td>\n",
              "      <td>NaN</td>\n",
              "      <td>NaN</td>\n",
              "      <td>46.70</td>\n",
              "    </tr>\n",
              "    <tr>\n",
              "      <th>7</th>\n",
              "      <td>J2301+5852</td>\n",
              "      <td>6.979071</td>\n",
              "      <td>4.712300e-13</td>\n",
              "      <td>3.3</td>\n",
              "      <td>NaN</td>\n",
              "      <td>235000.0</td>\n",
              "      <td>5.800000e+13</td>\n",
              "      <td>5.500000e+31</td>\n",
              "      <td>5e+30</td>\n",
              "      <td>5.8e+13</td>\n",
              "      <td>1.60</td>\n",
              "    </tr>\n",
              "    <tr>\n",
              "      <th>8</th>\n",
              "      <td>J1745-2900</td>\n",
              "      <td>3.763733</td>\n",
              "      <td>1.756000e-11</td>\n",
              "      <td>8.3</td>\n",
              "      <td>NaN</td>\n",
              "      <td>3400.0</td>\n",
              "      <td>2.600000e+14</td>\n",
              "      <td>1.300000e+34</td>\n",
              "      <td>1.9e+32</td>\n",
              "      <td>2.6e+14</td>\n",
              "      <td>45.70</td>\n",
              "    </tr>\n",
              "    <tr>\n",
              "      <th>9</th>\n",
              "      <td>J0525-6607</td>\n",
              "      <td>8.047000</td>\n",
              "      <td>6.500000e-11</td>\n",
              "      <td>NaN</td>\n",
              "      <td>NaN</td>\n",
              "      <td>1960.0</td>\n",
              "      <td>7.320000e+14</td>\n",
              "      <td>4.900000e+33</td>\n",
              "      <td>NaN</td>\n",
              "      <td>NaN</td>\n",
              "      <td>13.20</td>\n",
              "    </tr>\n",
              "  </tbody>\n",
              "</table>\n",
              "</div>"
            ],
            "text/plain": [
              "  Name of pulsar         po          pdot  ...    Edot2      B_sI   B_Lc\n",
              "0     J0100-7211   8.020392  1.880000e-11  ...    4e+29       NaN   7.14\n",
              "1     J0525-6607   0.354438  7.360520e-17  ...  1.9e+31  1.62e+11  34.40\n",
              "2     J1708-4008  11.006262  1.960000e-11  ...    4e+31       NaN   3.30\n",
              "3     J1808-2024   7.555920  5.490000e-10  ...    3e+32  2.06e+15  44.80\n",
              "4     J1809-1943   5.540743  2.828100e-12  ...  5.1e+31  1.27e+14   6.98\n",
              "5     J1841-0456  11.788978  4.092000e-11  ...  1.1e+31       NaN   4.02\n",
              "6     J1907+0919   5.198346  9.200000e-11  ...      NaN       NaN  46.70\n",
              "7     J2301+5852   6.979071  4.712300e-13  ...    5e+30   5.8e+13   1.60\n",
              "8     J1745-2900   3.763733  1.756000e-11  ...  1.9e+32   2.6e+14  45.70\n",
              "9     J0525-6607   8.047000  6.500000e-11  ...      NaN       NaN  13.20\n",
              "\n",
              "[10 rows x 11 columns]"
            ]
          },
          "metadata": {
            "tags": []
          },
          "execution_count": 3
        }
      ]
    },
    {
      "cell_type": "code",
      "metadata": {
        "colab": {
          "base_uri": "https://localhost:8080/",
          "height": 910
        },
        "id": "z6fWgy5chhoV",
        "outputId": "e98d1acc-82ca-4121-b957-bc5c94439086"
      },
      "source": [
        "o=pd.concat([l,p,c],ignore_index=True)\n",
        "o.to_csv('Combined_data.csv')\n",
        "o"
      ],
      "execution_count": null,
      "outputs": [
        {
          "output_type": "execute_result",
          "data": {
            "text/html": [
              "<div>\n",
              "<style scoped>\n",
              "    .dataframe tbody tr th:only-of-type {\n",
              "        vertical-align: middle;\n",
              "    }\n",
              "\n",
              "    .dataframe tbody tr th {\n",
              "        vertical-align: top;\n",
              "    }\n",
              "\n",
              "    .dataframe thead th {\n",
              "        text-align: right;\n",
              "    }\n",
              "</style>\n",
              "<table border=\"1\" class=\"dataframe\">\n",
              "  <thead>\n",
              "    <tr style=\"text-align: right;\">\n",
              "      <th></th>\n",
              "      <th>Name of pulsar</th>\n",
              "      <th>po</th>\n",
              "      <th>pdot</th>\n",
              "      <th>D in Kpc</th>\n",
              "      <th>Age</th>\n",
              "      <th>R_L</th>\n",
              "      <th>B_s</th>\n",
              "      <th>Edot</th>\n",
              "      <th>Edot2</th>\n",
              "      <th>B_sI</th>\n",
              "      <th>B_Lc</th>\n",
              "    </tr>\n",
              "  </thead>\n",
              "  <tbody>\n",
              "    <tr>\n",
              "      <th>0</th>\n",
              "      <td>J0205+6449</td>\n",
              "      <td>0.065716</td>\n",
              "      <td>1.937543e-13</td>\n",
              "      <td>3.2</td>\n",
              "      <td>5.370000e+03</td>\n",
              "      <td>NaN</td>\n",
              "      <td>3.610000e+12</td>\n",
              "      <td>2.700000e+37</td>\n",
              "      <td>2.6e+36</td>\n",
              "      <td>3.61e+12</td>\n",
              "      <td>119000.00</td>\n",
              "    </tr>\n",
              "    <tr>\n",
              "      <th>1</th>\n",
              "      <td>J0218+4232</td>\n",
              "      <td>0.002323</td>\n",
              "      <td>7.739550e-20</td>\n",
              "      <td>3.15</td>\n",
              "      <td>4.760000e+08</td>\n",
              "      <td>466.36</td>\n",
              "      <td>4.290000e+08</td>\n",
              "      <td>2.400000e+35</td>\n",
              "      <td>2.5e+34</td>\n",
              "      <td>4.27e+08</td>\n",
              "      <td>321000.00</td>\n",
              "    </tr>\n",
              "    <tr>\n",
              "      <th>2</th>\n",
              "      <td>J0437-4715</td>\n",
              "      <td>0.005757</td>\n",
              "      <td>5.729215e-20</td>\n",
              "      <td>0.157</td>\n",
              "      <td>1.590000e+09</td>\n",
              "      <td>13.52</td>\n",
              "      <td>4.290000e+08</td>\n",
              "      <td>1.200000e+34</td>\n",
              "      <td>4.8e+35</td>\n",
              "      <td>2.85e+08</td>\n",
              "      <td>28500.00</td>\n",
              "    </tr>\n",
              "    <tr>\n",
              "      <th>3</th>\n",
              "      <td>J0534+2200</td>\n",
              "      <td>0.033392</td>\n",
              "      <td>4.209720e-13</td>\n",
              "      <td>2</td>\n",
              "      <td>1.260000e+03</td>\n",
              "      <td>2200</td>\n",
              "      <td>3.790000e+12</td>\n",
              "      <td>4.500000e+38</td>\n",
              "      <td>1.1e+38</td>\n",
              "      <td>3.79e+12</td>\n",
              "      <td>955000.00</td>\n",
              "    </tr>\n",
              "    <tr>\n",
              "      <th>4</th>\n",
              "      <td>J1105-6107</td>\n",
              "      <td>0.063202</td>\n",
              "      <td>1.584462e-14</td>\n",
              "      <td>2.36</td>\n",
              "      <td>6.320000e+04</td>\n",
              "      <td>NaN</td>\n",
              "      <td>1.010000e+12</td>\n",
              "      <td>2.500000e+36</td>\n",
              "      <td>4.4e+35</td>\n",
              "      <td>NaN</td>\n",
              "      <td>37600.00</td>\n",
              "    </tr>\n",
              "    <tr>\n",
              "      <th>5</th>\n",
              "      <td>J1124-5916</td>\n",
              "      <td>0.135477</td>\n",
              "      <td>7.525660e-13</td>\n",
              "      <td>5</td>\n",
              "      <td>2.850000e+03</td>\n",
              "      <td>NaN</td>\n",
              "      <td>1.020000e+13</td>\n",
              "      <td>1.200000e+37</td>\n",
              "      <td>4.8e+35</td>\n",
              "      <td>NaN</td>\n",
              "      <td>38500.00</td>\n",
              "    </tr>\n",
              "    <tr>\n",
              "      <th>6</th>\n",
              "      <td>J1617-5055</td>\n",
              "      <td>0.069357</td>\n",
              "      <td>1.351000e-13</td>\n",
              "      <td>4.743</td>\n",
              "      <td>8.130000e+03</td>\n",
              "      <td>NaN</td>\n",
              "      <td>3.100000e+12</td>\n",
              "      <td>1.600000e+37</td>\n",
              "      <td>7.1e+35</td>\n",
              "      <td>NaN</td>\n",
              "      <td>87000.00</td>\n",
              "    </tr>\n",
              "    <tr>\n",
              "      <th>7</th>\n",
              "      <td>J1930+1852</td>\n",
              "      <td>0.136855</td>\n",
              "      <td>7.505700e-13</td>\n",
              "      <td>7</td>\n",
              "      <td>2.890000e+03</td>\n",
              "      <td>NaN</td>\n",
              "      <td>1.030000e+13</td>\n",
              "      <td>1.200000e+37</td>\n",
              "      <td>2.4e+35</td>\n",
              "      <td>NaN</td>\n",
              "      <td>37500.00</td>\n",
              "    </tr>\n",
              "    <tr>\n",
              "      <th>8</th>\n",
              "      <td>J2124-3358</td>\n",
              "      <td>0.004931</td>\n",
              "      <td>2.057050e-20</td>\n",
              "      <td>0.41</td>\n",
              "      <td>3.800000e+09</td>\n",
              "      <td>2.86</td>\n",
              "      <td>3.220000e+08</td>\n",
              "      <td>6.800000e+33</td>\n",
              "      <td>2.4e+35</td>\n",
              "      <td>1.92e+08</td>\n",
              "      <td>25200.00</td>\n",
              "    </tr>\n",
              "    <tr>\n",
              "      <th>9</th>\n",
              "      <td>J2229+6114</td>\n",
              "      <td>0.051624</td>\n",
              "      <td>7.827000e-14</td>\n",
              "      <td>3</td>\n",
              "      <td>1.050000e+04</td>\n",
              "      <td>13.5</td>\n",
              "      <td>2.030000e+12</td>\n",
              "      <td>2.200000e+37</td>\n",
              "      <td>2.5e+36</td>\n",
              "      <td>NaN</td>\n",
              "      <td>139000.00</td>\n",
              "    </tr>\n",
              "    <tr>\n",
              "      <th>10</th>\n",
              "      <td>J0537-6910</td>\n",
              "      <td>0.016122</td>\n",
              "      <td>5.178434e-14</td>\n",
              "      <td>49.7</td>\n",
              "      <td>4.930000e+03</td>\n",
              "      <td>NaN</td>\n",
              "      <td>9.250000e+11</td>\n",
              "      <td>4.900000e+38</td>\n",
              "      <td>2e+35</td>\n",
              "      <td>NaN</td>\n",
              "      <td>2070000.00</td>\n",
              "    </tr>\n",
              "    <tr>\n",
              "      <th>11</th>\n",
              "      <td>J0633+1746</td>\n",
              "      <td>0.237099</td>\n",
              "      <td>1.097087e-14</td>\n",
              "      <td>0.19</td>\n",
              "      <td>3.420000e+05</td>\n",
              "      <td>NaN</td>\n",
              "      <td>1.630000e+12</td>\n",
              "      <td>3.200000e+34</td>\n",
              "      <td>9e+35</td>\n",
              "      <td>1.63e+12</td>\n",
              "      <td>1150.00</td>\n",
              "    </tr>\n",
              "    <tr>\n",
              "      <th>12</th>\n",
              "      <td>J0543+2329</td>\n",
              "      <td>0.245984</td>\n",
              "      <td>1.541956e-14</td>\n",
              "      <td>1.565</td>\n",
              "      <td>2.530000e+05</td>\n",
              "      <td>71.03</td>\n",
              "      <td>1.970000e+12</td>\n",
              "      <td>4.100000e+34</td>\n",
              "      <td>1.7e+34</td>\n",
              "      <td>1.97e+12</td>\n",
              "      <td>1240.00</td>\n",
              "    </tr>\n",
              "    <tr>\n",
              "      <th>13</th>\n",
              "      <td>J1811-1925</td>\n",
              "      <td>0.064667</td>\n",
              "      <td>4.400000e-14</td>\n",
              "      <td>5</td>\n",
              "      <td>2.330000e+04</td>\n",
              "      <td>NaN</td>\n",
              "      <td>1.710000e+12</td>\n",
              "      <td>6.400000e+36</td>\n",
              "      <td>2.6e+35</td>\n",
              "      <td>NaN</td>\n",
              "      <td>59200.00</td>\n",
              "    </tr>\n",
              "    <tr>\n",
              "      <th>14</th>\n",
              "      <td>J1846-0258</td>\n",
              "      <td>0.326571</td>\n",
              "      <td>7.107450e-12</td>\n",
              "      <td>5.8</td>\n",
              "      <td>7.280000e+02</td>\n",
              "      <td>NaN</td>\n",
              "      <td>4.880000e+13</td>\n",
              "      <td>8.100000e+36</td>\n",
              "      <td>2.4e+35</td>\n",
              "      <td>NaN</td>\n",
              "      <td>13100.00</td>\n",
              "    </tr>\n",
              "    <tr>\n",
              "      <th>15</th>\n",
              "      <td>J0628+0909</td>\n",
              "      <td>3.763733</td>\n",
              "      <td>5.479000e-16</td>\n",
              "      <td>1.771</td>\n",
              "      <td>3.590000e+07</td>\n",
              "      <td>NaN</td>\n",
              "      <td>8.350000e+11</td>\n",
              "      <td>1.100000e+31</td>\n",
              "      <td>3.6e+30</td>\n",
              "      <td>NaN</td>\n",
              "      <td>4.09</td>\n",
              "    </tr>\n",
              "    <tr>\n",
              "      <th>16</th>\n",
              "      <td>J0633+1746</td>\n",
              "      <td>0.237099</td>\n",
              "      <td>1.097087e-14</td>\n",
              "      <td>0.19</td>\n",
              "      <td>3.420000e+05</td>\n",
              "      <td>NaN</td>\n",
              "      <td>1.630000e+12</td>\n",
              "      <td>3.200000e+34</td>\n",
              "      <td>9e+35</td>\n",
              "      <td>1.63e+12</td>\n",
              "      <td>1150.00</td>\n",
              "    </tr>\n",
              "    <tr>\n",
              "      <th>17</th>\n",
              "      <td>J0636-4549</td>\n",
              "      <td>1.984597</td>\n",
              "      <td>3.172200e-15</td>\n",
              "      <td>0.383</td>\n",
              "      <td>9.910000e+06</td>\n",
              "      <td>NaN</td>\n",
              "      <td>2.540000e+12</td>\n",
              "      <td>1.600000e+31</td>\n",
              "      <td>1.1e+32</td>\n",
              "      <td>NaN</td>\n",
              "      <td>3.05</td>\n",
              "    </tr>\n",
              "    <tr>\n",
              "      <th>18</th>\n",
              "      <td>J1811-4930</td>\n",
              "      <td>1.432704</td>\n",
              "      <td>2.254000e-15</td>\n",
              "      <td>1.447</td>\n",
              "      <td>1.010000e+07</td>\n",
              "      <td>NaN</td>\n",
              "      <td>1.820000e+12</td>\n",
              "      <td>3.000000e+31</td>\n",
              "      <td>1.4e+31</td>\n",
              "      <td>NaN</td>\n",
              "      <td>5.80</td>\n",
              "    </tr>\n",
              "    <tr>\n",
              "      <th>19</th>\n",
              "      <td>J1812-1718</td>\n",
              "      <td>1.205374</td>\n",
              "      <td>1.907700e-14</td>\n",
              "      <td>3.678</td>\n",
              "      <td>1.000000e+06</td>\n",
              "      <td>NaN</td>\n",
              "      <td>4.850000e+12</td>\n",
              "      <td>4.300000e+32</td>\n",
              "      <td>3.2e+31</td>\n",
              "      <td>NaN</td>\n",
              "      <td>26.00</td>\n",
              "    </tr>\n",
              "    <tr>\n",
              "      <th>20</th>\n",
              "      <td>J0100-7211</td>\n",
              "      <td>8.020392</td>\n",
              "      <td>1.880000e-11</td>\n",
              "      <td>59.7</td>\n",
              "      <td>6.760000e+03</td>\n",
              "      <td>NaN</td>\n",
              "      <td>3.930000e+14</td>\n",
              "      <td>1.400000e+33</td>\n",
              "      <td>4e+29</td>\n",
              "      <td>NaN</td>\n",
              "      <td>7.14</td>\n",
              "    </tr>\n",
              "    <tr>\n",
              "      <th>21</th>\n",
              "      <td>J0525-6607</td>\n",
              "      <td>0.354438</td>\n",
              "      <td>7.360520e-17</td>\n",
              "      <td>1.841</td>\n",
              "      <td>7.630000e+07</td>\n",
              "      <td>66.09</td>\n",
              "      <td>1.630000e+11</td>\n",
              "      <td>6.500000e+31</td>\n",
              "      <td>1.9e+31</td>\n",
              "      <td>1.62e+11</td>\n",
              "      <td>34.40</td>\n",
              "    </tr>\n",
              "    <tr>\n",
              "      <th>22</th>\n",
              "      <td>J1708-4008</td>\n",
              "      <td>11.006262</td>\n",
              "      <td>1.960000e-11</td>\n",
              "      <td>3.8</td>\n",
              "      <td>8.900000e+03</td>\n",
              "      <td>NaN</td>\n",
              "      <td>4.700000e+14</td>\n",
              "      <td>5.800000e+32</td>\n",
              "      <td>4e+31</td>\n",
              "      <td>NaN</td>\n",
              "      <td>3.30</td>\n",
              "    </tr>\n",
              "    <tr>\n",
              "      <th>23</th>\n",
              "      <td>J1808-2024</td>\n",
              "      <td>7.555920</td>\n",
              "      <td>5.490000e-10</td>\n",
              "      <td>13</td>\n",
              "      <td>2.180000e+02</td>\n",
              "      <td>NaN</td>\n",
              "      <td>2.060000e+15</td>\n",
              "      <td>5.000000e+34</td>\n",
              "      <td>3e+32</td>\n",
              "      <td>2.06e+15</td>\n",
              "      <td>44.80</td>\n",
              "    </tr>\n",
              "    <tr>\n",
              "      <th>24</th>\n",
              "      <td>J1809-1943</td>\n",
              "      <td>5.540743</td>\n",
              "      <td>2.828100e-12</td>\n",
              "      <td>3.6</td>\n",
              "      <td>3.100000e+04</td>\n",
              "      <td>NaN</td>\n",
              "      <td>1.270000e+14</td>\n",
              "      <td>6.600000e+32</td>\n",
              "      <td>5.1e+31</td>\n",
              "      <td>1.27e+14</td>\n",
              "      <td>6.98</td>\n",
              "    </tr>\n",
              "    <tr>\n",
              "      <th>25</th>\n",
              "      <td>J1841-0456</td>\n",
              "      <td>11.788978</td>\n",
              "      <td>4.092000e-11</td>\n",
              "      <td>9.6</td>\n",
              "      <td>4.570000e+03</td>\n",
              "      <td>NaN</td>\n",
              "      <td>7.030000e+14</td>\n",
              "      <td>9.900000e+32</td>\n",
              "      <td>1.1e+31</td>\n",
              "      <td>NaN</td>\n",
              "      <td>4.02</td>\n",
              "    </tr>\n",
              "    <tr>\n",
              "      <th>26</th>\n",
              "      <td>J1907+0919</td>\n",
              "      <td>5.198346</td>\n",
              "      <td>9.200000e-11</td>\n",
              "      <td>NaN</td>\n",
              "      <td>8.950000e+02</td>\n",
              "      <td>NaN</td>\n",
              "      <td>7.000000e+14</td>\n",
              "      <td>2.600000e+34</td>\n",
              "      <td>NaN</td>\n",
              "      <td>NaN</td>\n",
              "      <td>46.70</td>\n",
              "    </tr>\n",
              "    <tr>\n",
              "      <th>27</th>\n",
              "      <td>J2301+5852</td>\n",
              "      <td>6.979071</td>\n",
              "      <td>4.712300e-13</td>\n",
              "      <td>3.3</td>\n",
              "      <td>2.350000e+05</td>\n",
              "      <td>NaN</td>\n",
              "      <td>5.800000e+13</td>\n",
              "      <td>5.500000e+31</td>\n",
              "      <td>5e+30</td>\n",
              "      <td>5.8e+13</td>\n",
              "      <td>1.60</td>\n",
              "    </tr>\n",
              "    <tr>\n",
              "      <th>28</th>\n",
              "      <td>J1745-2900</td>\n",
              "      <td>3.763733</td>\n",
              "      <td>1.756000e-11</td>\n",
              "      <td>8.3</td>\n",
              "      <td>3.400000e+03</td>\n",
              "      <td>NaN</td>\n",
              "      <td>2.600000e+14</td>\n",
              "      <td>1.300000e+34</td>\n",
              "      <td>1.9e+32</td>\n",
              "      <td>2.6e+14</td>\n",
              "      <td>45.70</td>\n",
              "    </tr>\n",
              "    <tr>\n",
              "      <th>29</th>\n",
              "      <td>J0525-6607</td>\n",
              "      <td>8.047000</td>\n",
              "      <td>6.500000e-11</td>\n",
              "      <td>NaN</td>\n",
              "      <td>1.960000e+03</td>\n",
              "      <td>NaN</td>\n",
              "      <td>7.320000e+14</td>\n",
              "      <td>4.900000e+33</td>\n",
              "      <td>NaN</td>\n",
              "      <td>NaN</td>\n",
              "      <td>13.20</td>\n",
              "    </tr>\n",
              "  </tbody>\n",
              "</table>\n",
              "</div>"
            ],
            "text/plain": [
              "   Name of pulsar         po          pdot  ...    Edot2      B_sI        B_Lc\n",
              "0      J0205+6449   0.065716  1.937543e-13  ...  2.6e+36  3.61e+12   119000.00\n",
              "1      J0218+4232   0.002323  7.739550e-20  ...  2.5e+34  4.27e+08   321000.00\n",
              "2      J0437-4715   0.005757  5.729215e-20  ...  4.8e+35  2.85e+08    28500.00\n",
              "3      J0534+2200   0.033392  4.209720e-13  ...  1.1e+38  3.79e+12   955000.00\n",
              "4      J1105-6107   0.063202  1.584462e-14  ...  4.4e+35       NaN    37600.00\n",
              "5      J1124-5916   0.135477  7.525660e-13  ...  4.8e+35       NaN    38500.00\n",
              "6      J1617-5055   0.069357  1.351000e-13  ...  7.1e+35       NaN    87000.00\n",
              "7      J1930+1852   0.136855  7.505700e-13  ...  2.4e+35       NaN    37500.00\n",
              "8      J2124-3358   0.004931  2.057050e-20  ...  2.4e+35  1.92e+08    25200.00\n",
              "9      J2229+6114   0.051624  7.827000e-14  ...  2.5e+36       NaN   139000.00\n",
              "10     J0537-6910   0.016122  5.178434e-14  ...    2e+35       NaN  2070000.00\n",
              "11     J0633+1746   0.237099  1.097087e-14  ...    9e+35  1.63e+12     1150.00\n",
              "12     J0543+2329   0.245984  1.541956e-14  ...  1.7e+34  1.97e+12     1240.00\n",
              "13     J1811-1925   0.064667  4.400000e-14  ...  2.6e+35       NaN    59200.00\n",
              "14     J1846-0258   0.326571  7.107450e-12  ...  2.4e+35       NaN    13100.00\n",
              "15     J0628+0909   3.763733  5.479000e-16  ...  3.6e+30       NaN        4.09\n",
              "16     J0633+1746   0.237099  1.097087e-14  ...    9e+35  1.63e+12     1150.00\n",
              "17     J0636-4549   1.984597  3.172200e-15  ...  1.1e+32       NaN        3.05\n",
              "18     J1811-4930   1.432704  2.254000e-15  ...  1.4e+31       NaN        5.80\n",
              "19     J1812-1718   1.205374  1.907700e-14  ...  3.2e+31       NaN       26.00\n",
              "20     J0100-7211   8.020392  1.880000e-11  ...    4e+29       NaN        7.14\n",
              "21     J0525-6607   0.354438  7.360520e-17  ...  1.9e+31  1.62e+11       34.40\n",
              "22     J1708-4008  11.006262  1.960000e-11  ...    4e+31       NaN        3.30\n",
              "23     J1808-2024   7.555920  5.490000e-10  ...    3e+32  2.06e+15       44.80\n",
              "24     J1809-1943   5.540743  2.828100e-12  ...  5.1e+31  1.27e+14        6.98\n",
              "25     J1841-0456  11.788978  4.092000e-11  ...  1.1e+31       NaN        4.02\n",
              "26     J1907+0919   5.198346  9.200000e-11  ...      NaN       NaN       46.70\n",
              "27     J2301+5852   6.979071  4.712300e-13  ...    5e+30   5.8e+13        1.60\n",
              "28     J1745-2900   3.763733  1.756000e-11  ...  1.9e+32   2.6e+14       45.70\n",
              "29     J0525-6607   8.047000  6.500000e-11  ...      NaN       NaN       13.20\n",
              "\n",
              "[30 rows x 11 columns]"
            ]
          },
          "metadata": {
            "tags": []
          },
          "execution_count": 4
        }
      ]
    },
    {
      "cell_type": "code",
      "metadata": {
        "id": "WO5XxGWXhkH6"
      },
      "source": [
        "#Combined data\n",
        "age_comb = o['Age']   # charactersitic age (yr)   #comb - combined data\n",
        "dist_comb = o['D in Kpc'] # distance in kpc\n",
        "p_0_comb = o['po']  # period of rotation (s)\n",
        "pdot_comb = o['pdot']  # time derivative of period\n",
        "r_l_comb = o['R_L']   # radio luminosity at 400 MHz (mJy kpc**2)\n",
        "b_s_comb = o['B_s']  # surface dipole magnetic field (Gauss)\n",
        "e_dot_comb = o['Edot'] # spin down energy loss rate (erg s**-1)\n",
        "e_dot2_comb = o['Edot2']  # energy flux at sun (ergs s**-1 kpc**-2)\n",
        "b_si_comb = o['B_sI']   # surface magnetic dipole from P_1_i (period derivative corrected for schklovski effect) (Gauss)\n",
        "b_lc_comb = o['B_Lc']   # Magnetic field at light cylinder (Gauss)\n",
        "\n",
        "\n",
        "#Radio high energy pulsars\n",
        "age_r = l['Age']   # charactersitic age (yr)   # r - radio\n",
        "dist_r = l['D in Kpc'] # distance in kpc\n",
        "p_0_r = l['po']  # period of rotation (s)\n",
        "pdot_r = l['pdot']  # time derivative of period\n",
        "r_l_r = l['R_L']   # radio luminosity at 400 MHz (mJy kpc**2)\n",
        "b_s_r = l['B_s']  # surface dipole magnetic field (Gauss)\n",
        "e_dot_r = l['Edot'] # spin down energy loss rate (erg s**-1)\n",
        "e_dot2_r = l['Edot2']  # energy flux at sun (ergs s**-1 kpc**-2)\n",
        "b_si_r = l['B_sI']   # surface magnetic dipole from P_1_i (period derivative corrected for schklovski effect) (Gauss)\n",
        "b_lc_r = l['B_Lc']   # Magnetic field at light cylinder (Gauss)\n",
        "\n",
        "\n",
        "# Non radio Pulsars\n",
        "age_nr = p['Age']   # charactersitic age (yr)   #nr - non radio\n",
        "dist_nr = p['D in Kpc'] # distance in kpc\n",
        "p_0_nr = p['po']  # period of rotation (s)\n",
        "pdot_nr = p['pdot']  # time derivative of period\n",
        "r_l_nr = p['R_L']   # radio luminosity at 400 MHz (mJy kpc**2)\n",
        "b_s_nr = p['B_s']  # surface dipole magnetic field (Gauss)\n",
        "e_dot_nr = p['Edot'] # spin down energy loss rate (erg s**-1)\n",
        "e_dot2_nr = p['Edot2']  # energy flux at sun (ergs s**-1 kpc**-2)\n",
        "b_si_nr = p['B_sI']   # surface magnetic dipole from P_1_i (period derivative corrected for schklovski effect) (Gauss)\n",
        "b_lc_nr = p['B_Lc']   # Magnetic field at light cylinder (Gauss)\n",
        "\n",
        "\n",
        "# Magnetars\n",
        "age_m = c['Age']   # charactersitic age (yr)   #m - magnetars\n",
        "dist_m = c['D in Kpc'] # distance in kpc\n",
        "p_0_m = c['po']  # period of rotation (s)\n",
        "pdot_m = c['pdot']  # time derivative of period\n",
        "r_l_m = c['R_L']   # radio luminosity at 400 MHz (mJy kpc**2)\n",
        "b_s_m = c['B_s']  # surface dipole magnetic field (Gauss)\n",
        "e_dot_m = c['Edot'] # spin down energy loss rate (erg s**-1)\n",
        "e_dot2_m = c['Edot2']  # energy flux at sun (ergs s**-1 kpc**-2)\n",
        "b_si_m = c['B_sI']   # surface magnetic dipole from P_1_i (period derivative corrected for schklovski effect) (Gauss)\n",
        "b_lc_m = c['B_Lc']   # Magnetic field at light cylinder (Gauss)"
      ],
      "execution_count": null,
      "outputs": []
    },
    {
      "cell_type": "code",
      "metadata": {
        "colab": {
          "base_uri": "https://localhost:8080/",
          "height": 312
        },
        "id": "9xEngPmthpjY",
        "outputId": "47e597d0-7bfe-49f9-8faa-5b4e2af09f84"
      },
      "source": [
        "import matplotlib.pyplot as plt\n",
        "%matplotlib inline\n",
        "plt.figure()\n",
        "plt.hist(p_0_r)\n",
        "plt.title('Radio Pulsars - High Energy')\n",
        "plt.xlabel('Time Period (s) of Pulsar [P]')\n",
        "plt.ylabel('Numer of Pulsars in that range')"
      ],
      "execution_count": null,
      "outputs": [
        {
          "output_type": "execute_result",
          "data": {
            "text/plain": [
              "Text(0, 0.5, 'Numer of Pulsars in that range')"
            ]
          },
          "metadata": {
            "tags": []
          },
          "execution_count": 6
        },
        {
          "output_type": "display_data",
          "data": {
            "image/png": "[encoded data removed]",
            "text/plain": [
              "<Figure size 432x288 with 1 Axes>"
            ]
          },
          "metadata": {
            "tags": []
          }
        }
      ]
    },
    {
      "cell_type": "code",
      "metadata": {
        "colab": {
          "base_uri": "https://localhost:8080/",
          "height": 312
        },
        "id": "sFJiGHy8ht3B",
        "outputId": "7a6433f7-b501-4414-c882-36abc95f0aa6"
      },
      "source": [
        "plt.hist(p_0_nr)\n",
        "plt.title('Non Radio Pulsars')\n",
        "plt.xlabel('Time Period (s) of Pulsar [P]')\n",
        "plt.ylabel('Numer of Pulsars in that range')"
      ],
      "execution_count": null,
      "outputs": [
        {
          "output_type": "execute_result",
          "data": {
            "text/plain": [
              "Text(0, 0.5, 'Numer of Pulsars in that range')"
            ]
          },
          "metadata": {
            "tags": []
          },
          "execution_count": 7
        },
        {
          "output_type": "display_data",
          "data": {
            "image/png": "[encoded data removed]",
            "text/plain": [
              "<Figure size 432x288 with 1 Axes>"
            ]
          },
          "metadata": {
            "tags": []
          }
        }
      ]
    },
    {
      "cell_type": "code",
      "metadata": {
        "colab": {
          "base_uri": "https://localhost:8080/",
          "height": 312
        },
        "id": "34LZVVCthxJ2",
        "outputId": "1a39f460-5d49-40f5-e8f6-44e47930932a"
      },
      "source": [
        "plt.hist(p_0_m)\n",
        "plt.title('Magnetars')\n",
        "plt.xlabel('Time Period (s) of Pulsar [P]')\n",
        "plt.ylabel('Numer of Pulsars in that range')\n"
      ],
      "execution_count": null,
      "outputs": [
        {
          "output_type": "execute_result",
          "data": {
            "text/plain": [
              "Text(0, 0.5, 'Numer of Pulsars in that range')"
            ]
          },
          "metadata": {
            "tags": []
          },
          "execution_count": 8
        },
        {
          "output_type": "display_data",
          "data": {
            "image/png": "[encoded data removed]",
            "text/plain": [
              "<Figure size 432x288 with 1 Axes>"
            ]
          },
          "metadata": {
            "tags": []
          }
        }
      ]
    },
    {
      "cell_type": "code",
      "metadata": {
        "colab": {
          "base_uri": "https://localhost:8080/",
          "height": 412
        },
        "id": "0YBsmpnwhzOc",
        "outputId": "067cad2f-5e70-44f9-8458-c1ee7e52b609"
      },
      "source": [
        "plt.title('Combined data')\n",
        "plt.xlabel('Time Period (s) of Pulsar [P]')\n",
        "plt.ylabel('Numer of Pulsars in that range')\n",
        "plt.hist([p_0_r, p_0_nr, p_0_m])"
      ],
      "execution_count": null,
      "outputs": [
        {
          "output_type": "execute_result",
          "data": {
            "text/plain": [
              "(array([[10.,  0.,  0.,  0.,  0.,  0.,  0.,  0.,  0.,  0.],\n",
              "        [ 6.,  3.,  0.,  1.,  0.,  0.,  0.,  0.,  0.,  0.],\n",
              "        [ 1.,  0.,  0.,  1.,  2.,  1.,  3.,  0.,  0.,  2.]]),\n",
              " array([2.32309053e-03, 1.18098862e+00, 2.35965415e+00, 3.53831968e+00,\n",
              "        4.71698521e+00, 5.89565075e+00, 7.07431628e+00, 8.25298181e+00,\n",
              "        9.43164734e+00, 1.06103129e+01, 1.17889784e+01]),\n",
              " <a list of 3 Lists of Patches objects>)"
            ]
          },
          "metadata": {
            "tags": []
          },
          "execution_count": 9
        },
        {
          "output_type": "display_data",
          "data": {
            "image/png": "[encoded data removed]",
            "text/plain": [
              "<Figure size 432x288 with 1 Axes>"
            ]
          },
          "metadata": {
            "tags": []
          }
        }
      ]
    },
    {
      "cell_type": "code",
      "metadata": {
        "colab": {
          "base_uri": "https://localhost:8080/",
          "height": 816
        },
        "id": "e0aRAwMvh2OE",
        "outputId": "72f501d8-34d1-4630-c158-a5881fd04ef1"
      },
      "source": [
        "plt.hist(b_s_comb)\n",
        "A=3.2*10**19*p_0_comb*pdot_comb\n",
        "plt.title('Combined data')\n",
        "plt.xlabel('Bs-obs of Pulsar ')\n",
        "plt.ylabel('Numer of Pulsars in that range')\n",
        "\n",
        "A"
      ],
      "execution_count": null,
      "outputs": [
        {
          "output_type": "execute_result",
          "data": {
            "text/plain": [
              "0     4.074477e+05\n",
              "1     5.753496e-03\n",
              "2     1.055542e-02\n",
              "3     4.498327e+05\n",
              "4     3.204524e+04\n",
              "5     3.262569e+06\n",
              "6     2.998435e+05\n",
              "7     3.287017e+06\n",
              "8     3.245936e-03\n",
              "9     1.292985e+05\n",
              "10    2.671612e+04\n",
              "11    8.323799e+04\n",
              "12    1.213747e+05\n",
              "13    9.105114e+04\n",
              "14    7.427485e+07\n",
              "15    6.598878e+04\n",
              "16    8.323799e+04\n",
              "17    2.014573e+05\n",
              "18    1.033381e+05\n",
              "19    7.358377e+05\n",
              "20    4.825068e+09\n",
              "21    8.348304e+02\n",
              "22    6.903128e+09\n",
              "23    1.327424e+11\n",
              "24    5.014328e+08\n",
              "25    1.543696e+10\n",
              "26    1.530393e+10\n",
              "27    1.052399e+08\n",
              "28    2.114917e+09\n",
              "29    1.673776e+10\n",
              "dtype: float64"
            ]
          },
          "metadata": {
            "tags": []
          },
          "execution_count": 10
        },
        {
          "output_type": "display_data",
          "data": {
            "image/png": "[encoded data removed]",
            "text/plain": [
              "<Figure size 432x288 with 1 Axes>"
            ]
          },
          "metadata": {
            "tags": []
          }
        }
      ]
    },
    {
      "cell_type": "code",
      "metadata": {
        "colab": {
          "base_uri": "https://localhost:8080/",
          "height": 312
        },
        "id": "N8mzLEjvh8oy",
        "outputId": "24822c01-285b-433c-fd43-1c4751354ba9"
      },
      "source": [
        "plt.hist(A)\n",
        "plt.title('calculated Bs ')\n",
        "plt.xlabel('Bs cal of Pulsar ')\n",
        "plt.ylabel('Numer of Pulsars in that range')"
      ],
      "execution_count": null,
      "outputs": [
        {
          "output_type": "execute_result",
          "data": {
            "text/plain": [
              "Text(0, 0.5, 'Numer of Pulsars in that range')"
            ]
          },
          "metadata": {
            "tags": []
          },
          "execution_count": 11
        },
        {
          "output_type": "display_data",
          "data": {
            "image/png": "[encoded data removed]",
            "text/plain": [
              "<Figure size 432x288 with 1 Axes>"
            ]
          },
          "metadata": {
            "tags": []
          }
        }
      ]
    },
    {
      "cell_type": "code",
      "metadata": {
        "colab": {
          "base_uri": "https://localhost:8080/",
          "height": 312
        },
        "id": "KhaZ4oJTh_ar",
        "outputId": "f8bc3904-0711-4946-ddf8-61e5addd1a5f"
      },
      "source": [
        "plt.hist([b_s_comb,A])\n",
        "plt.legend(['BS-data','Bs-cal'])\n",
        "plt.title('Combined cal and obs data')\n",
        "plt.xlabel('Bs of Pulsar ')\n",
        "plt.ylabel('Numer of Pulsars in that range')"
      ],
      "execution_count": null,
      "outputs": [
        {
          "output_type": "execute_result",
          "data": {
            "text/plain": [
              "Text(0, 0.5, 'Numer of Pulsars in that range')"
            ]
          },
          "metadata": {
            "tags": []
          },
          "execution_count": 12
        },
        {
          "output_type": "display_data",
          "data": {
            "image/png": "[encoded data removed]",
            "text/plain": [
              "<Figure size 432x288 with 1 Axes>"
            ]
          },
          "metadata": {
            "tags": []
          }
        }
      ]
    },
    {
      "cell_type": "code",
      "metadata": {
        "colab": {
          "base_uri": "https://localhost:8080/",
          "height": 312
        },
        "id": "w0dn2tzGiC8-",
        "outputId": "4e9b28bd-0721-4488-c0b1-bdcf677e5c44"
      },
      "source": [
        "plt.hist(b_s_r)\n",
        "plt.title('Radio')\n",
        "plt.xlabel('Bs of radio Pulsar ')\n",
        "plt.ylabel('Numer of Pulsars in that range')"
      ],
      "execution_count": null,
      "outputs": [
        {
          "output_type": "execute_result",
          "data": {
            "text/plain": [
              "Text(0, 0.5, 'Numer of Pulsars in that range')"
            ]
          },
          "metadata": {
            "tags": []
          },
          "execution_count": 13
        },
        {
          "output_type": "display_data",
          "data": {
            "image/png": "[encoded data removed]",
            "text/plain": [
              "<Figure size 432x288 with 1 Axes>"
            ]
          },
          "metadata": {
            "tags": []
          }
        }
      ]
    },
    {
      "cell_type": "code",
      "metadata": {
        "colab": {
          "base_uri": "https://localhost:8080/",
          "height": 312
        },
        "id": "YcDDtbXAiGPm",
        "outputId": "ad7e2478-9031-43f6-a4f8-8dadaf4c8aaa"
      },
      "source": [
        "plt.hist(b_s_nr)\n",
        "plt.title('non radio')\n",
        "plt.xlabel('Bs of Pulsar ')\n",
        "plt.ylabel('Numer of Pulsars in that range')"
      ],
      "execution_count": null,
      "outputs": [
        {
          "output_type": "execute_result",
          "data": {
            "text/plain": [
              "Text(0, 0.5, 'Numer of Pulsars in that range')"
            ]
          },
          "metadata": {
            "tags": []
          },
          "execution_count": 16
        },
        {
          "output_type": "display_data",
          "data": {
            "image/png": "[encoded data removed]",
            "text/plain": [
              "<Figure size 432x288 with 1 Axes>"
            ]
          },
          "metadata": {
            "tags": []
          }
        }
      ]
    },
    {
      "cell_type": "code",
      "metadata": {
        "colab": {
          "base_uri": "https://localhost:8080/",
          "height": 312
        },
        "id": "1yMAareYiJ6z",
        "outputId": "04a59dc0-456b-4bd6-a281-df5fa5c669ab"
      },
      "source": [
        "plt.hist(b_s_m)\n",
        "plt.title('magnetars')\n",
        "plt.xlabel('Bs of Pulsar ')\n",
        "plt.ylabel('Numer of Pulsars in that range')"
      ],
      "execution_count": null,
      "outputs": [
        {
          "output_type": "execute_result",
          "data": {
            "text/plain": [
              "Text(0, 0.5, 'Numer of Pulsars in that range')"
            ]
          },
          "metadata": {
            "tags": []
          },
          "execution_count": 17
        },
        {
          "output_type": "display_data",
          "data": {
            "image/png": "[encoded data removed]",
            "text/plain": [
              "<Figure size 432x288 with 1 Axes>"
            ]
          },
          "metadata": {
            "tags": []
          }
        }
      ]
    },
    {
      "cell_type": "code",
      "metadata": {
        "colab": {
          "base_uri": "https://localhost:8080/",
          "height": 312
        },
        "id": "QzOflcPtiNbI",
        "outputId": "ae8f368c-6e8e-4721-f0df-801aabea0453"
      },
      "source": [
        "plt.hist([b_s_r,b_s_nr,b_s_m])\n",
        "plt.legend(['Radio', 'Non Radio', 'Magnetars'])\n",
        "plt.title('Combined data')\n",
        "plt.xlabel('Bs of Pulsar [P]')\n",
        "plt.ylabel('Numer of Pulsars in that range')\n"
      ],
      "execution_count": null,
      "outputs": [
        {
          "output_type": "execute_result",
          "data": {
            "text/plain": [
              "Text(0, 0.5, 'Numer of Pulsars in that range')"
            ]
          },
          "metadata": {
            "tags": []
          },
          "execution_count": 18
        },
        {
          "output_type": "display_data",
          "data": {
            "image/png": "[encoded data removed]",
            "text/plain": [
              "<Figure size 432x288 with 1 Axes>"
            ]
          },
          "metadata": {
            "tags": []
          }
        }
      ]
    },
    {
      "cell_type": "code",
      "metadata": {
        "id": "AONKuZ24iQ8z"
      },
      "source": [
        ""
      ],
      "execution_count": null,
      "outputs": []
    },
    {
      "cell_type": "code",
      "metadata": {
        "colab": {
          "base_uri": "https://localhost:8080/",
          "height": 367
        },
        "id": "p_MPhPbqibzl",
        "outputId": "d3b782a3-c683-4d89-a68e-af14d9e76bdc"
      },
      "source": [
        "plt.figure(figsize = (16,11))\n",
        "plt.subplot(231)\n",
        "plt.hist(b_s_comb)\n",
        "A=3.2*10**19*p_0_comb*pdot_comb\n",
        "plt.title('Combined data')\n",
        "plt.xlabel('Bs-obs of Pulsar ')\n",
        "plt.ylabel('Numer of Pulsars in that range')\n",
        "\n",
        "plt.subplot(232)\n",
        "plt.hist(A)\n",
        "plt.title('calculated Bs ')\n",
        "plt.xlabel('Bs cal of Pulsar ')\n",
        "plt.ylabel('Numer of Pulsars in that range')\n",
        "\n",
        "\n",
        "plt.subplot(233)\n",
        "plt.hist([b_s_comb,A])\n",
        "plt.legend(['BS-data','Bs-cal'])\n",
        "plt.title('Combined cal and obs data')\n",
        "plt.xlabel('Bs of Pulsar ')\n",
        "plt.ylabel('Numer of Pulsars in that range')"
      ],
      "execution_count": null,
      "outputs": [
        {
          "output_type": "execute_result",
          "data": {
            "text/plain": [
              "Text(0, 0.5, 'Numer of Pulsars in that range')"
            ]
          },
          "metadata": {
            "tags": []
          },
          "execution_count": 19
        },
        {
          "output_type": "display_data",
          "data": {
            "image/png": "[encoded data removed]",
            "text/plain": [
              "<Figure size 1152x792 with 3 Axes>"
            ]
          },
          "metadata": {
            "tags": []
          }
        }
      ]
    },
    {
      "cell_type": "code",
      "metadata": {
        "colab": {
          "base_uri": "https://localhost:8080/",
          "height": 312
        },
        "id": "loJlHRUNiiqM",
        "outputId": "ab8617ce-7ae7-48dc-e1f8-28b223468e23"
      },
      "source": [
        "p=np.log(p_0_comb)\n",
        "pdot=np.log(pdot_comb)\n",
        "plt.title('log(pdot) Vs log(p)')\n",
        "plt.xlabel(\"log(p)\")\n",
        "plt.ylabel('log(pdot)')\n",
        "plt.scatter(p,pdot)"
      ],
      "execution_count": null,
      "outputs": [
        {
          "output_type": "execute_result",
          "data": {
            "text/plain": [
              "<matplotlib.collections.PathCollection at 0x7fd6d9651250>"
            ]
          },
          "metadata": {
            "tags": []
          },
          "execution_count": 20
        },
        {
          "output_type": "display_data",
          "data": {
            "image/png": "[encoded data removed]",
            "text/plain": [
              "<Figure size 432x288 with 1 Axes>"
            ]
          },
          "metadata": {
            "tags": []
          }
        }
      ]
    },
    {
      "cell_type": "code",
      "metadata": {
        "colab": {
          "base_uri": "https://localhost:8080/",
          "height": 692
        },
        "id": "OBwNQDm1im0G",
        "outputId": "bd03a08f-51d8-42de-c984-55b9ab91dc7c"
      },
      "source": [
        "plt.figure(figsize = (16,11))\n",
        "plt.subplot(231)\n",
        "pr=p_0_r\n",
        "bsr=b_s_r\n",
        "plt.scatter(pr,bsr)\n",
        "plt.title('Radio Pulsars - High Energy')\n",
        "plt.xlabel('Time Period (s)of Pulsar [P]')\n",
        "plt.ylabel('Bs')\n",
        "\n",
        "\n",
        "plt.subplot(232)\n",
        "bsnr=b_s_nr\n",
        "plt.scatter(p_0_nr, bsnr,color='k')\n",
        "plt.title('Non Radio Pulsars')\n",
        "plt.xlabel('Time Period (s) of Pulsar [P]')\n",
        "plt.ylabel('Bs of non radio pulsar')\n",
        "\n",
        "plt.subplot(233)\n",
        "plt.scatter(p_0_m, b_s_m,marker='d')\n",
        "plt.title('magnetars ')\n",
        "plt.xlabel('Time Period (s) of Pulsar [P]')\n",
        "plt.ylabel('Bs of Magnetars')\n",
        "\n",
        "plt.subplot(235)\n",
        "plt.scatter(pr,bsr,marker='s')\n",
        "plt.scatter(p_0_nr, bsnr,color='y')\n",
        "plt.scatter(p_0_m, b_s_m,marker='d')\n",
        "plt.legend(['Radio', 'Non Radio', 'Magnetars'])\n",
        "plt.title('Combined data')\n",
        "plt.xlabel('Time Period (s) of Pulsar [P]')\n",
        "plt.ylabel('Bs')\n"
      ],
      "execution_count": null,
      "outputs": [
        {
          "output_type": "execute_result",
          "data": {
            "text/plain": [
              "Text(0, 0.5, 'Bs')"
            ]
          },
          "metadata": {
            "tags": []
          },
          "execution_count": 22
        },
        {
          "output_type": "display_data",
          "data": {
            "image/png": "[encoded data removed]",
            "text/plain": [
              "<Figure size 1152x792 with 4 Axes>"
            ]
          },
          "metadata": {
            "tags": []
          }
        }
      ]
    },
    {
      "cell_type": "code",
      "metadata": {
        "colab": {
          "base_uri": "https://localhost:8080/"
        },
        "id": "UF7ivp6djoZA",
        "outputId": "881dfccb-e250-4fe0-b9e6-610c2bdd60f0"
      },
      "source": [
        "Ir = (e_dot_r*p_0_r**3)/(4*np.pi**2*pdot_r)\n",
        "Inr = (e_dot_nr*p_0_nr**3)/(4*np.pi**2*pdot_nr)\n",
        "Im = (e_dot_m*p_0_m**3)/(4*np.pi**2*pdot_m)\n",
        "print(\"The moment of inertia for Radio high energy pulsars ;\", Ir)\n",
        "print(\"The moment of inertia for non Radio  pulsars ;\", Inr)\n",
        "print(\"The moment of inertia for magnetars ;\", Im)\n"
      ],
      "execution_count": null,
      "outputs": [
        {
          "output_type": "stream",
          "text": [
            "The moment of inertia for Radio high energy pulsars ; 0    1.001762e+45\n",
            "1    9.847686e+44\n",
            "2    1.012552e+45\n",
            "3    1.008191e+45\n",
            "4    1.009006e+45\n",
            "5    1.004320e+45\n",
            "6    1.000859e+45\n",
            "7    1.038037e+45\n",
            "8    1.004014e+45\n",
            "9    9.795166e+44\n",
            "dtype: float64\n",
            "The moment of inertia for non Radio  pulsars ; 0    1.004414e+45\n",
            "1    9.847835e+44\n",
            "2    1.002469e+45\n",
            "3    9.963587e+44\n",
            "4    1.005415e+45\n",
            "5    2.711366e+46\n",
            "6    9.847835e+44\n",
            "7    9.986583e+44\n",
            "8    9.914646e+44\n",
            "9    9.999184e+44\n",
            "dtype: float64\n",
            "The moment of inertia for magnetars ; 0    9.731891e+44\n",
            "1    9.960118e+44\n",
            "2    9.993826e+44\n",
            "3    9.951762e+44\n",
            "4    1.005526e+45\n",
            "5    1.004080e+45\n",
            "6    1.005591e+45\n",
            "7    1.004993e+45\n",
            "8    9.998056e+44\n",
            "9    9.950044e+44\n",
            "dtype: float64\n"
          ],
          "name": "stdout"
        }
      ]
    },
    {
      "cell_type": "code",
      "metadata": {
        "colab": {
          "background_save": true,
          "base_uri": "https://localhost:8080/",
          "height": 886
        },
        "id": "lk01-_-ujprm",
        "outputId": "d825daac-b968-4eb5-f062-849ba30b5673"
      },
      "source": [
        "plt.figure(figsize = (16,11))\n",
        "plt.subplot(231)\n",
        "pr=p_0_r\n",
        "bsr=b_s_r\n",
        "plt.scatter(age_r,Ir)\n",
        "plt.title('Radio Pulsars - High Energy')\n",
        "plt.xlabel('AGE')\n",
        "plt.ylabel('I')\n",
        "\n",
        "\n",
        "plt.subplot(232)\n",
        "bsnr=b_s_nr\n",
        "plt.scatter(age_nr,Inr,color='k')\n",
        "plt.title('Non Radio Pulsars')\n",
        "plt.xlabel('AGE')\n",
        "plt.ylabel('I')\n",
        "\n",
        "plt.subplot(233)\n",
        "plt.scatter(age_m, Im,marker='d')\n",
        "plt.title('magnetars ')\n",
        "plt.xlabel('AGE')\n",
        "plt.ylabel('I')\n",
        "\n",
        "plt.subplot(235)\n",
        "plt.scatter(age_r,Ir,marker='s')\n",
        "plt.scatter(age_nr, Irnr,color='y')\n",
        "plt.scatter(age_m, Im,marker='d')\n",
        "plt.legend(['Radio', 'Non Radio', 'Magnetars'])\n",
        "plt.title('Combined data')\n",
        "plt.xlabel('AGE')\n",
        "plt.ylabel('I')\n"
      ],
      "execution_count": null,
      "outputs": [
        {
          "output_type": "execute_result",
          "data": {
            "text/plain": [
              "Text(0, 0.5, 'I')"
            ]
          },
          "metadata": {
            "tags": []
          },
          "execution_count": 0
        },
        {
          "output_type": "display_data",
          "data": {
            "image/png": "[encoded data removed]",
            "text/plain": [
              "<Figure size 1152x792 with 4 Axes>"
            ]
          },
          "metadata": {
            "tags": []
          }
        }
      ]
    },
    {
      "cell_type": "code",
      "metadata": {
        "id": "rn2r7MBtlN6v"
      },
      "source": [
        ""
      ],
      "execution_count": null,
      "outputs": []
    }
  ]
}